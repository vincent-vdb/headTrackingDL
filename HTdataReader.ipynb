{
 "cells": [
  {
   "cell_type": "code",
   "execution_count": 60,
   "metadata": {},
   "outputs": [
    {
     "name": "stderr",
     "output_type": "stream",
     "text": [
      "C:\\Users\\vdel\\Anaconda3\\envs\\tensorflow\\lib\\site-packages\\h5py\\__init__.py:36: FutureWarning: Conversion of the second argument of issubdtype from `float` to `np.floating` is deprecated. In future, it will be treated as `np.float64 == np.dtype(float).type`.\n",
      "  from ._conv import register_converters as _register_converters\n",
      "Using TensorFlow backend.\n"
     ]
    }
   ],
   "source": [
    "import pandas as pd\n",
    "import numpy as np\n",
    "import matplotlib.pyplot as plt\n",
    "import tensorflow as tf\n",
    "\n",
    "import random\n",
    "\n",
    "from keras.models import Sequential\n",
    "from keras.layers import Input, Dense, MaxPooling2D, Conv2D, Flatten, Reshape\n",
    "from keras.optimizers import Adam\n",
    "from keras import regularizers\n",
    "from keras import optimizers\n",
    "from keras import initializers\n",
    "from keras.preprocessing import image\n",
    "\n",
    "import keras.backend as K\n",
    "\n",
    "from sklearn.preprocessing import OneHotEncoder\n",
    "from sklearn.utils import shuffle\n",
    "\n",
    "import matplotlib.pyplot as plt\n",
    "import matplotlib.image as mpimg\n",
    "\n",
    "import matplotlib.patches as patches"
   ]
  },
  {
   "cell_type": "code",
   "execution_count": 123,
   "metadata": {},
   "outputs": [],
   "source": [
    "dataRaw = pd.read_csv('totHTdataFile.txt')\n"
   ]
  },
  {
   "cell_type": "code",
   "execution_count": 124,
   "metadata": {},
   "outputs": [
    {
     "name": "stdout",
     "output_type": "stream",
     "text": [
      "77160\n",
      "158449\n",
      "13215\n"
     ]
    }
   ],
   "source": [
    "print(len(dataRaw[dataRaw.valid == 0]))\n",
    "print(len(dataRaw))\n",
    "print(len(np.unique(dataRaw.id)))\n"
   ]
  },
  {
   "cell_type": "code",
   "execution_count": 181,
   "metadata": {},
   "outputs": [
    {
     "name": "stdout",
     "output_type": "stream",
     "text": [
      "(13215, 20, 2)\n",
      "(13215, 20)\n"
     ]
    }
   ],
   "source": [
    "#Shape the data\n",
    "maxBlobs = 20\n",
    "\n",
    "ids = np.unique(dataRaw.id)\n",
    "\n",
    "nPts = len(ids)\n",
    "xinput = np.zeros((nPts, maxBlobs))\n",
    "yinput = np.zeros((nPts, maxBlobs))\n",
    "targetValue = np.zeros((nPts, maxBlobs))\n",
    "#print(dataRaw[dataRaw.id == ids[0]]['x'])\n",
    "\n",
    "for iid in range(nPts) :\n",
    "    tmpNbPts = len(dataRaw[dataRaw.id == ids[iid]])\n",
    "    if(tmpNbPts<maxBlobs):\n",
    "        xinput[iid,:tmpNbPts] = dataRaw[dataRaw.id == ids[iid]]['x'].values\n",
    "        yinput[iid,:tmpNbPts] = dataRaw[dataRaw.id == ids[iid]]['y'].values\n",
    "        targetValue[iid,:tmpNbPts] = dataRaw[dataRaw.id == ids[iid]]['valid'].values\n",
    "#    for data in dataRaw[dataRaw.id == ids[iid]]:\n",
    "#        xinput\n",
    "\n",
    "xinput = np.reshape(xinput, (xinput.shape[0], xinput.shape[1], 1))\n",
    "yinput = np.reshape(yinput, (yinput.shape[0], yinput.shape[1], 1))\n",
    "xtot = np.concatenate((xinput, yinput), axis=2)\n",
    "\n",
    "print(xtot.shape)\n",
    "print(targetValue.shape)"
   ]
  },
  {
   "cell_type": "code",
   "execution_count": 189,
   "metadata": {},
   "outputs": [
    {
     "name": "stdout",
     "output_type": "stream",
     "text": [
      "12754\n"
     ]
    },
    {
     "data": {
      "image/png": "[encoded data removed]",
      "text/plain": [
       "<matplotlib.figure.Figure at 0x17181153fd0>"
      ]
     },
     "metadata": {},
     "output_type": "display_data"
    }
   ],
   "source": [
    "# Check how much points are kept\n",
    "nbPts = np.sum(targetValue>0.5, axis=1)\n",
    "\n",
    "print(len(nbPts))\n",
    "\n",
    "plt.hist(nbPts)\n",
    "plt.show()"
   ]
  },
  {
   "cell_type": "code",
   "execution_count": 188,
   "metadata": {},
   "outputs": [
    {
     "name": "stdout",
     "output_type": "stream",
     "text": [
      "12754 12754\n"
     ]
    }
   ],
   "source": [
    "goodPoints = np.where((nbPts<7) & (nbPts > 1))\n",
    "xtot = xtot[goodPoints]\n",
    "targetValue = targetValue[goodPoints]\n",
    "print(len(xtot), len(targetValue))"
   ]
  },
  {
   "cell_type": "code",
   "execution_count": 190,
   "metadata": {},
   "outputs": [],
   "source": [
    "# Shuffle data\n",
    "xtrain, ytrain = shuffle(xtot, targetValue, random_state=0)\n",
    "xvalid = xtrain[10000:]\n",
    "#xtest = xtrain[2500:]\n",
    "xtrain = xtrain[:10000]\n",
    "yvalid = ytrain[10000:]\n",
    "#ytest = ytrain[2500:]\n",
    "ytrain = ytrain[:10000]"
   ]
  },
  {
   "cell_type": "code",
   "execution_count": 191,
   "metadata": {},
   "outputs": [],
   "source": [
    "def model(Xshape):\n",
    "    \n",
    "    mod = Sequential()\n",
    "    \n",
    "    mod.add(Reshape((Xshape[0]*Xshape[1],), input_shape=(Xshape)))\n",
    "    mod.add(Dense(32, activation='relu', kernel_initializer='glorot_normal', kernel_regularizer=regularizers.l2(0.)))\n",
    "    mod.add(Dense(32, activation='relu', kernel_initializer='glorot_normal', kernel_regularizer=regularizers.l2(0.)))\n",
    "    mod.add(Dense(32, activation='relu', kernel_initializer='glorot_normal', kernel_regularizer=regularizers.l2(0.)))\n",
    "    mod.add(Dense(32, activation='relu', kernel_initializer='glorot_normal', kernel_regularizer=regularizers.l2(0.)))\n",
    "    mod.add(Dense(32, activation='relu', kernel_initializer='glorot_normal', kernel_regularizer=regularizers.l2(0.)))\n",
    "    mod.add(Dense(32, activation='relu', kernel_initializer='glorot_normal', kernel_regularizer=regularizers.l2(0.)))\n",
    "    mod.add(Dense(32, activation='relu', kernel_initializer='glorot_normal', kernel_regularizer=regularizers.l2(0.)))\n",
    "    mod.add(Dense(32, activation='relu', kernel_initializer='glorot_normal', kernel_regularizer=regularizers.l2(0.)))\n",
    "    mod.add(Dense(32, activation='relu', kernel_initializer='glorot_normal', kernel_regularizer=regularizers.l2(0.)))\n",
    "\n",
    "    mod.add(Dense(Xshape[0], activation='sigmoid', kernel_initializer='glorot_normal'))\n",
    "    \n",
    "    return mod"
   ]
  },
  {
   "cell_type": "code",
   "execution_count": 192,
   "metadata": {},
   "outputs": [],
   "source": [
    "mymodel = model(xtot.shape[1:])\n",
    "opt = optimizers.Adam(lr=0.0001)\n",
    "mymodel.compile(loss='binary_crossentropy', optimizer='adam', metrics=['accuracy'])"
   ]
  },
  {
   "cell_type": "code",
   "execution_count": 193,
   "metadata": {
    "scrolled": true
   },
   "outputs": [
    {
     "name": "stdout",
     "output_type": "stream",
     "text": [
      "Epoch 1/100\n",
      "10000/10000 [==============================] - 1s 149us/step - loss: 0.2886 - acc: 0.8628\n",
      "Epoch 2/100\n",
      "10000/10000 [==============================] - 0s 28us/step - loss: 0.0813 - acc: 0.9734\n",
      "Epoch 3/100\n",
      "10000/10000 [==============================] - 0s 23us/step - loss: 0.0603 - acc: 0.9820\n",
      "Epoch 4/100\n",
      "10000/10000 [==============================] - 0s 23us/step - loss: 0.0508 - acc: 0.9851\n",
      "Epoch 5/100\n",
      "10000/10000 [==============================] - 0s 26us/step - loss: 0.0451 - acc: 0.9870\n",
      "Epoch 6/100\n",
      "10000/10000 [==============================] - 0s 27us/step - loss: 0.0426 - acc: 0.9874\n",
      "Epoch 7/100\n",
      "10000/10000 [==============================] - 0s 25us/step - loss: 0.0389 - acc: 0.9889\n",
      "Epoch 8/100\n",
      "10000/10000 [==============================] - 0s 25us/step - loss: 0.0376 - acc: 0.9891\n",
      "Epoch 9/100\n",
      "10000/10000 [==============================] - 0s 25us/step - loss: 0.0349 - acc: 0.9901\n",
      "Epoch 10/100\n",
      "10000/10000 [==============================] - 0s 24us/step - loss: 0.0326 - acc: 0.9909\n",
      "Epoch 11/100\n",
      "10000/10000 [==============================] - 0s 26us/step - loss: 0.0327 - acc: 0.9909\n",
      "Epoch 12/100\n",
      "10000/10000 [==============================] - 0s 24us/step - loss: 0.0307 - acc: 0.9913\n",
      "Epoch 13/100\n",
      "10000/10000 [==============================] - 0s 26us/step - loss: 0.0302 - acc: 0.9914\n",
      "Epoch 14/100\n",
      "10000/10000 [==============================] - 0s 26us/step - loss: 0.0287 - acc: 0.9920\n",
      "Epoch 15/100\n",
      "10000/10000 [==============================] - 0s 24us/step - loss: 0.0278 - acc: 0.9923\n",
      "Epoch 16/100\n",
      "10000/10000 [==============================] - 0s 27us/step - loss: 0.0287 - acc: 0.9919\n",
      "Epoch 17/100\n",
      "10000/10000 [==============================] - 0s 30us/step - loss: 0.0259 - acc: 0.9928\n",
      "Epoch 18/100\n",
      "10000/10000 [==============================] - 0s 33us/step - loss: 0.0263 - acc: 0.9928\n",
      "Epoch 19/100\n",
      "10000/10000 [==============================] - 0s 32us/step - loss: 0.0248 - acc: 0.9930\n",
      "Epoch 20/100\n",
      "10000/10000 [==============================] - 0s 32us/step - loss: 0.0302 - acc: 0.9913\n",
      "Epoch 21/100\n",
      "10000/10000 [==============================] - 0s 28us/step - loss: 0.0274 - acc: 0.9923\n",
      "Epoch 22/100\n",
      "10000/10000 [==============================] - 0s 26us/step - loss: 0.0237 - acc: 0.9934\n",
      "Epoch 23/100\n",
      "10000/10000 [==============================] - 0s 25us/step - loss: 0.0230 - acc: 0.9937\n",
      "Epoch 24/100\n",
      "10000/10000 [==============================] - 0s 26us/step - loss: 0.0224 - acc: 0.9939\n",
      "Epoch 25/100\n",
      "10000/10000 [==============================] - 0s 26us/step - loss: 0.0214 - acc: 0.9942\n",
      "Epoch 26/100\n",
      "10000/10000 [==============================] - 0s 25us/step - loss: 0.0231 - acc: 0.9933\n",
      "Epoch 27/100\n",
      "10000/10000 [==============================] - 0s 24us/step - loss: 0.0222 - acc: 0.9939\n",
      "Epoch 28/100\n",
      "10000/10000 [==============================] - 0s 24us/step - loss: 0.0214 - acc: 0.9942\n",
      "Epoch 29/100\n",
      "10000/10000 [==============================] - 0s 24us/step - loss: 0.0246 - acc: 0.9931\n",
      "Epoch 30/100\n",
      "10000/10000 [==============================] - 0s 24us/step - loss: 0.0220 - acc: 0.9938\n",
      "Epoch 31/100\n",
      "10000/10000 [==============================] - 0s 25us/step - loss: 0.0209 - acc: 0.9944\n",
      "Epoch 32/100\n",
      "10000/10000 [==============================] - 0s 24us/step - loss: 0.0212 - acc: 0.9941\n",
      "Epoch 33/100\n",
      "10000/10000 [==============================] - 0s 23us/step - loss: 0.0194 - acc: 0.9947\n",
      "Epoch 34/100\n",
      "10000/10000 [==============================] - 0s 23us/step - loss: 0.0206 - acc: 0.9944\n",
      "Epoch 35/100\n",
      "10000/10000 [==============================] - 0s 24us/step - loss: 0.0211 - acc: 0.9942\n",
      "Epoch 36/100\n",
      "10000/10000 [==============================] - 0s 23us/step - loss: 0.0233 - acc: 0.9938\n",
      "Epoch 37/100\n",
      "10000/10000 [==============================] - 0s 23us/step - loss: 0.0208 - acc: 0.9944\n",
      "Epoch 38/100\n",
      "10000/10000 [==============================] - 0s 23us/step - loss: 0.0192 - acc: 0.9947\n",
      "Epoch 39/100\n",
      "10000/10000 [==============================] - 0s 25us/step - loss: 0.0195 - acc: 0.9946\n",
      "Epoch 40/100\n",
      "10000/10000 [==============================] - 0s 26us/step - loss: 0.0194 - acc: 0.9947\n",
      "Epoch 41/100\n",
      "10000/10000 [==============================] - 0s 28us/step - loss: 0.0193 - acc: 0.9946\n",
      "Epoch 42/100\n",
      "10000/10000 [==============================] - 0s 21us/step - loss: 0.0213 - acc: 0.9942\n",
      "Epoch 43/100\n",
      "10000/10000 [==============================] - 0s 22us/step - loss: 0.0189 - acc: 0.9947\n",
      "Epoch 44/100\n",
      "10000/10000 [==============================] - 0s 21us/step - loss: 0.0195 - acc: 0.9946\n",
      "Epoch 45/100\n",
      "10000/10000 [==============================] - 0s 22us/step - loss: 0.0183 - acc: 0.9949\n",
      "Epoch 46/100\n",
      "10000/10000 [==============================] - 0s 22us/step - loss: 0.0185 - acc: 0.9950\n",
      "Epoch 47/100\n",
      "10000/10000 [==============================] - 0s 22us/step - loss: 0.0191 - acc: 0.9947\n",
      "Epoch 48/100\n",
      "10000/10000 [==============================] - 0s 21us/step - loss: 0.0180 - acc: 0.9951\n",
      "Epoch 49/100\n",
      "10000/10000 [==============================] - 0s 23us/step - loss: 0.0181 - acc: 0.9950\n",
      "Epoch 50/100\n",
      "10000/10000 [==============================] - 0s 23us/step - loss: 0.0186 - acc: 0.9950\n",
      "Epoch 51/100\n",
      "10000/10000 [==============================] - 0s 23us/step - loss: 0.0223 - acc: 0.9937\n",
      "Epoch 52/100\n",
      "10000/10000 [==============================] - 0s 23us/step - loss: 0.0202 - acc: 0.9944\n",
      "Epoch 53/100\n",
      "10000/10000 [==============================] - 0s 23us/step - loss: 0.0178 - acc: 0.9952\n",
      "Epoch 54/100\n",
      "10000/10000 [==============================] - 0s 23us/step - loss: 0.0176 - acc: 0.9952\n",
      "Epoch 55/100\n",
      "10000/10000 [==============================] - 0s 24us/step - loss: 0.0171 - acc: 0.9954\n",
      "Epoch 56/100\n",
      "10000/10000 [==============================] - 0s 23us/step - loss: 0.0198 - acc: 0.9945\n",
      "Epoch 57/100\n",
      "10000/10000 [==============================] - 0s 23us/step - loss: 0.0181 - acc: 0.9952\n",
      "Epoch 58/100\n",
      "10000/10000 [==============================] - 0s 23us/step - loss: 0.0188 - acc: 0.9947\n",
      "Epoch 59/100\n",
      "10000/10000 [==============================] - 0s 23us/step - loss: 0.0193 - acc: 0.9946\n",
      "Epoch 60/100\n",
      "10000/10000 [==============================] - 0s 24us/step - loss: 0.0175 - acc: 0.9952\n",
      "Epoch 61/100\n",
      "10000/10000 [==============================] - 0s 24us/step - loss: 0.0170 - acc: 0.9953\n",
      "Epoch 62/100\n",
      "10000/10000 [==============================] - 0s 25us/step - loss: 0.0226 - acc: 0.9936\n",
      "Epoch 63/100\n",
      "10000/10000 [==============================] - 0s 25us/step - loss: 0.0170 - acc: 0.9953\n",
      "Epoch 64/100\n",
      "10000/10000 [==============================] - 0s 23us/step - loss: 0.0160 - acc: 0.9956\n",
      "Epoch 65/100\n",
      "10000/10000 [==============================] - 0s 23us/step - loss: 0.0157 - acc: 0.9958\n",
      "Epoch 66/100\n",
      "10000/10000 [==============================] - 0s 23us/step - loss: 0.0159 - acc: 0.9956\n",
      "Epoch 67/100\n",
      "10000/10000 [==============================] - 0s 24us/step - loss: 0.0155 - acc: 0.9957\n",
      "Epoch 68/100\n",
      "10000/10000 [==============================] - 0s 24us/step - loss: 0.0168 - acc: 0.9956\n",
      "Epoch 69/100\n",
      "10000/10000 [==============================] - 0s 25us/step - loss: 0.0180 - acc: 0.9950\n",
      "Epoch 70/100\n",
      "10000/10000 [==============================] - 0s 25us/step - loss: 0.0182 - acc: 0.9949\n",
      "Epoch 71/100\n",
      "10000/10000 [==============================] - 0s 24us/step - loss: 0.0163 - acc: 0.9955\n",
      "Epoch 72/100\n",
      "10000/10000 [==============================] - 0s 28us/step - loss: 0.0171 - acc: 0.9952\n",
      "Epoch 73/100\n",
      "10000/10000 [==============================] - 0s 21us/step - loss: 0.0159 - acc: 0.9957\n",
      "Epoch 74/100\n",
      "10000/10000 [==============================] - 0s 22us/step - loss: 0.0167 - acc: 0.9954\n",
      "Epoch 75/100\n",
      "10000/10000 [==============================] - 0s 23us/step - loss: 0.0188 - acc: 0.9948\n",
      "Epoch 76/100\n",
      "10000/10000 [==============================] - 0s 22us/step - loss: 0.0210 - acc: 0.9939\n",
      "Epoch 77/100\n",
      "10000/10000 [==============================] - 0s 22us/step - loss: 0.0194 - acc: 0.9947\n",
      "Epoch 78/100\n",
      "10000/10000 [==============================] - 0s 22us/step - loss: 0.0158 - acc: 0.9958\n",
      "Epoch 79/100\n",
      "10000/10000 [==============================] - 0s 22us/step - loss: 0.0148 - acc: 0.9960\n",
      "Epoch 80/100\n",
      "10000/10000 [==============================] - 0s 23us/step - loss: 0.0154 - acc: 0.9958\n",
      "Epoch 81/100\n"
     ]
    },
    {
     "name": "stdout",
     "output_type": "stream",
     "text": [
      "10000/10000 [==============================] - 0s 23us/step - loss: 0.0152 - acc: 0.9957\n",
      "Epoch 82/100\n",
      "10000/10000 [==============================] - 0s 23us/step - loss: 0.0157 - acc: 0.9957\n",
      "Epoch 83/100\n",
      "10000/10000 [==============================] - 0s 23us/step - loss: 0.0174 - acc: 0.9953\n",
      "Epoch 84/100\n",
      "10000/10000 [==============================] - 0s 23us/step - loss: 0.0290 - acc: 0.9918\n",
      "Epoch 85/100\n",
      "10000/10000 [==============================] - 0s 24us/step - loss: 0.0157 - acc: 0.9958\n",
      "Epoch 86/100\n",
      "10000/10000 [==============================] - 0s 24us/step - loss: 0.0154 - acc: 0.9958\n",
      "Epoch 87/100\n",
      "10000/10000 [==============================] - 0s 23us/step - loss: 0.0148 - acc: 0.9959\n",
      "Epoch 88/100\n",
      "10000/10000 [==============================] - 0s 24us/step - loss: 0.0145 - acc: 0.9961\n",
      "Epoch 89/100\n",
      "10000/10000 [==============================] - 0s 24us/step - loss: 0.0159 - acc: 0.9957\n",
      "Epoch 90/100\n",
      "10000/10000 [==============================] - 0s 23us/step - loss: 0.0157 - acc: 0.9956\n",
      "Epoch 91/100\n",
      "10000/10000 [==============================] - 0s 23us/step - loss: 0.0172 - acc: 0.9953\n",
      "Epoch 92/100\n",
      "10000/10000 [==============================] - 0s 24us/step - loss: 0.0157 - acc: 0.9957\n",
      "Epoch 93/100\n",
      "10000/10000 [==============================] - 0s 24us/step - loss: 0.0143 - acc: 0.9961\n",
      "Epoch 94/100\n",
      "10000/10000 [==============================] - 0s 25us/step - loss: 0.0152 - acc: 0.9958\n",
      "Epoch 95/100\n",
      "10000/10000 [==============================] - 0s 23us/step - loss: 0.0140 - acc: 0.9962\n",
      "Epoch 96/100\n",
      "10000/10000 [==============================] - 0s 24us/step - loss: 0.0155 - acc: 0.9957\n",
      "Epoch 97/100\n",
      "10000/10000 [==============================] - 0s 22us/step - loss: 0.0226 - acc: 0.9933\n",
      "Epoch 98/100\n",
      "10000/10000 [==============================] - 0s 22us/step - loss: 0.0189 - acc: 0.9948\n",
      "Epoch 99/100\n",
      "10000/10000 [==============================] - 0s 22us/step - loss: 0.0201 - acc: 0.9943\n",
      "Epoch 100/100\n",
      "10000/10000 [==============================] - 0s 23us/step - loss: 0.0143 - acc: 0.9961\n"
     ]
    },
    {
     "data": {
      "text/plain": [
       "<keras.callbacks.History at 0x171814107b8>"
      ]
     },
     "execution_count": 193,
     "metadata": {},
     "output_type": "execute_result"
    }
   ],
   "source": [
    "# First train with small mini batch size and default learning rate\n",
    "mymodel.fit(xtrain, ytrain, epochs = 100, batch_size=64)"
   ]
  },
  {
   "cell_type": "code",
   "execution_count": 194,
   "metadata": {},
   "outputs": [
    {
     "name": "stdout",
     "output_type": "stream",
     "text": [
      "['loss', 'acc']\n",
      "2754/2754 [==============================] - 0s 130us/step\n",
      "[0.022923295400338755, 0.9943355069960385]\n"
     ]
    }
   ],
   "source": [
    "# Evaluate the model on the valid dataset\n",
    "print(mymodel.metrics_names)\n",
    "print(mymodel.evaluate(xvalid, yvalid))"
   ]
  },
  {
   "cell_type": "code",
   "execution_count": 198,
   "metadata": {},
   "outputs": [
    {
     "name": "stdout",
     "output_type": "stream",
     "text": [
      "2754\n"
     ]
    },
    {
     "data": {
      "image/png": "[encoded data removed]",
      "text/plain": [
       "<matplotlib.figure.Figure at 0x1718f39a048>"
      ]
     },
     "metadata": {},
     "output_type": "display_data"
    }
   ],
   "source": [
    "# Check how much points are kept\n",
    "ypredict = mymodel.predict(xvalid)\n",
    "print(len(ypredict))\n",
    "nbPtsPred = np.sum(ypredict>0.5, axis=1)\n",
    "nbPtsTruth = np.sum(yvalid>0.5, axis=1)\n",
    "\n",
    "plt.hist([nbPtsPred,nbPtsTruth], label=['prediction','truth'])\n",
    "plt.legend(loc='upper right')\n",
    "plt.show()"
   ]
  },
  {
   "cell_type": "code",
   "execution_count": 170,
   "metadata": {},
   "outputs": [
    {
     "data": {
      "text/plain": [
       "array([6, 0, 0, ..., 0, 0, 6])"
      ]
     },
     "execution_count": 170,
     "metadata": {},
     "output_type": "execute_result"
    }
   ],
   "source": []
  },
  {
   "cell_type": "code",
   "execution_count": null,
   "metadata": {},
   "outputs": [],
   "source": []
  }
 ],
 "metadata": {
  "kernelspec": {
   "display_name": "Python 3",
   "language": "python",
   "name": "python3"
  },
  "language_info": {
   "codemirror_mode": {
    "name": "ipython",
    "version": 3
   },
   "file_extension": ".py",
   "mimetype": "text/x-python",
   "name": "python",
   "nbconvert_exporter": "python",
   "pygments_lexer": "ipython3",
   "version": "3.5.4"
  }
 },
 "nbformat": 4,
 "nbformat_minor": 2
}
